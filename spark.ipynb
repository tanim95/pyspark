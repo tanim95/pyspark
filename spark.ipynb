{
  "nbformat": 4,
  "nbformat_minor": 0,
  "metadata": {
    "colab": {
      "provenance": []
    },
    "kernelspec": {
      "name": "python3",
      "display_name": "Python 3"
    },
    "language_info": {
      "name": "python"
    }
  },
  "cells": [
    {
      "cell_type": "code",
      "source": [
        "!pip install pyspark"
      ],
      "metadata": {
        "colab": {
          "base_uri": "https://localhost:8080/"
        },
        "id": "V80tBLrZRrrH",
        "outputId": "93e0f91d-4576-4152-d60b-6a31ed5a7698"
      },
      "execution_count": 3,
      "outputs": [
        {
          "output_type": "stream",
          "name": "stdout",
          "text": [
            "Collecting pyspark\n",
            "  Downloading pyspark-3.4.1.tar.gz (310.8 MB)\n",
            "\u001b[2K     \u001b[90m━━━━━━━━━━━━━━━━━━━━━━━━━━━━━━━━━━━━━━━\u001b[0m \u001b[32m310.8/310.8 MB\u001b[0m \u001b[31m2.9 MB/s\u001b[0m eta \u001b[36m0:00:00\u001b[0m\n",
            "\u001b[?25h  Preparing metadata (setup.py) ... \u001b[?25l\u001b[?25hdone\n",
            "Requirement already satisfied: py4j==0.10.9.7 in /usr/local/lib/python3.10/dist-packages (from pyspark) (0.10.9.7)\n",
            "Building wheels for collected packages: pyspark\n",
            "  Building wheel for pyspark (setup.py) ... \u001b[?25l\u001b[?25hdone\n",
            "  Created wheel for pyspark: filename=pyspark-3.4.1-py2.py3-none-any.whl size=311285388 sha256=8e91217239ab4056e46aa6c099a9b111a64f74d78b275e315e5e6dd27fbf3d96\n",
            "  Stored in directory: /root/.cache/pip/wheels/0d/77/a3/ff2f74cc9ab41f8f594dabf0579c2a7c6de920d584206e0834\n",
            "Successfully built pyspark\n",
            "Installing collected packages: pyspark\n",
            "Successfully installed pyspark-3.4.1\n"
          ]
        }
      ]
    },
    {
      "cell_type": "code",
      "execution_count": 6,
      "metadata": {
        "colab": {
          "base_uri": "https://localhost:8080/"
        },
        "id": "xNVPbtHnQUwT",
        "outputId": "ace52bbd-181e-4427-fab0-92bb079220bf"
      },
      "outputs": [
        {
          "output_type": "stream",
          "name": "stdout",
          "text": [
            "+-------+---+\n",
            "|   Name|Age|\n",
            "+-------+---+\n",
            "|  Alice| 25|\n",
            "|    Bob| 30|\n",
            "|Charlie| 22|\n",
            "+-------+---+\n",
            "\n"
          ]
        }
      ],
      "source": [
        "import pyspark as ps\n",
        "\n",
        "spark = ps.sql.SparkSession.builder.master(\"local\").appName(\"test1\").getOrCreate()\n",
        "data = [(\"Alice\", 25), (\"Bob\", 30), (\"Charlie\", 22)]\n",
        "columns = [\"Name\", \"Age\"]\n",
        "df = spark.createDataFrame(data, columns)\n",
        "df.show()"
      ]
    },
    {
      "cell_type": "code",
      "source": [
        "spark2 = ps.sql.SparkSession.builder.getOrCreate()\n",
        "book_df = spark2.read.csv('books.csv',header = True,inferSchema=True)\n",
        "book_df.show(10)"
      ],
      "metadata": {
        "colab": {
          "base_uri": "https://localhost:8080/"
        },
        "id": "35BS_NOuRDaa",
        "outputId": "d0fbb136-71dd-4f82-be8d-44a204ae4184"
      },
      "execution_count": 15,
      "outputs": [
        {
          "output_type": "stream",
          "name": "stdout",
          "text": [
            "+---+--------+------------+--------+-----------+----------+----------------+--------------------+-------------------------+--------------------+--------------------+-------------+--------------+-------------+------------------+-----------------------+---------+---------+---------+---------+---------+--------------------+--------------------+\n",
            "| id| book_id|best_book_id| work_id|books_count|      isbn|          isbn13|             authors|original_publication_year|      original_title|               title|language_code|average_rating|ratings_count|work_ratings_count|work_text_reviews_count|ratings_1|ratings_2|ratings_3|ratings_4|ratings_5|           image_url|     small_image_url|\n",
            "+---+--------+------------+--------+-----------+----------+----------------+--------------------+-------------------------+--------------------+--------------------+-------------+--------------+-------------+------------------+-----------------------+---------+---------+---------+---------+---------+--------------------+--------------------+\n",
            "|  1| 2767052|     2767052| 2792775|        272| 439023483|9.78043902348E12|     Suzanne Collins|                   2008.0|    The Hunger Games|The Hunger Games ...|          eng|          4.34|      4780653|           4942365|                 155254|  66715.0|   127936|   560092|  1481305|  2706317|https://images.gr...|https://images.gr...|\n",
            "|  2|       3|           3| 4640799|        491| 439554934|9.78043955493E12|J.K. Rowling, Mar...|                   1997.0|Harry Potter and ...|Harry Potter and ...|          eng|          4.44|      4602479|           4800065|                  75867|  75504.0|   101676|   455024|  1156318|  3011543|https://images.gr...|https://images.gr...|\n",
            "|  3|   41865|       41865| 3212258|        226| 316015849|9.78031601584E12|     Stephenie Meyer|                   2005.0|            Twilight|Twilight (Twiligh...|        en-US|          3.57|      3866839|           3916824|                  95009| 456191.0|   436802|   793319|   875073|  1355439|https://images.gr...|https://images.gr...|\n",
            "|  4|    2657|        2657| 3275794|        487|  61120081|9.78006112008E12|          Harper Lee|                   1960.0|To Kill a Mocking...|To Kill a Mocking...|          eng|          4.25|      3198671|           3340896|                  72586|  60427.0|   117415|   446835|  1001952|  1714267|https://images.gr...|https://images.gr...|\n",
            "|  5|    4671|        4671|  245494|       1356| 743273567|9.78074327356E12| F. Scott Fitzgerald|                   1925.0|    The Great Gatsby|    The Great Gatsby|          eng|          3.89|      2683664|           2773745|                  51992|  86236.0|   197621|   606158|   936012|   947718|https://images.gr...|https://images.gr...|\n",
            "|  6|11870085|    11870085|16827462|        226| 525478817|9.78052547881E12|          John Green|                   2012.0|The Fault in Our ...|The Fault in Our ...|          eng|          4.26|      2346404|           2478609|                 140739|  47994.0|    92723|   327550|   698471|  1311871|https://images.gr...|https://images.gr...|\n",
            "|  7|    5907|        5907| 1540236|        969| 618260307| 9.7806182603E12|      J.R.R. Tolkien|                   1937.0|The Hobbit or The...|          The Hobbit|        en-US|          4.25|      2071616|           2196809|                  37653|  46023.0|    76784|   288649|   665635|  1119718|https://images.gr...|https://images.gr...|\n",
            "|  8|    5107|        5107| 3036731|        360| 316769177|9.78031676917E12|       J.D. Salinger|                   1951.0|The Catcher in th...|The Catcher in th...|          eng|          3.79|      2044241|           2120637|                  44920| 109383.0|   185520|   455042|   661516|   709176|https://images.gr...|https://images.gr...|\n",
            "|  9|     960|         960| 3338963|        311|1416524797|9.78141652479E12|           Dan Brown|                   2000.0|    Angels & Demons |Angels & Demons  ...|        en-CA|          3.85|      2001311|           2078754|                  25112|  77841.0|   145740|   458429|   716569|   680175|https://images.gr...|https://images.gr...|\n",
            "| 10|    1885|        1885| 3060926|       3455| 679783261|9.78067978327E12|         Jane Austen|                   1813.0| Pride and Prejudice| Pride and Prejudice|          eng|          4.24|      2035490|           2191465|                  49152|  54700.0|    86485|   284852|   609755|  1155673|https://images.gr...|https://images.gr...|\n",
            "+---+--------+------------+--------+-----------+----------+----------------+--------------------+-------------------------+--------------------+--------------------+-------------+--------------+-------------+------------------+-----------------------+---------+---------+---------+---------+---------+--------------------+--------------------+\n",
            "only showing top 10 rows\n",
            "\n"
          ]
        }
      ]
    },
    {
      "cell_type": "code",
      "source": [
        "book_df.count(),len(book_df.columns)"
      ],
      "metadata": {
        "colab": {
          "base_uri": "https://localhost:8080/"
        },
        "id": "f0QZb93Berpz",
        "outputId": "649e1999-076c-4019-f1a8-10317d05b437"
      },
      "execution_count": 19,
      "outputs": [
        {
          "output_type": "execute_result",
          "data": {
            "text/plain": [
              "(10000, 23)"
            ]
          },
          "metadata": {},
          "execution_count": 19
        }
      ]
    },
    {
      "cell_type": "code",
      "source": [],
      "metadata": {
        "id": "Y0_I-70tfJq3"
      },
      "execution_count": null,
      "outputs": []
    }
  ]
}