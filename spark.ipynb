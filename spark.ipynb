{
  "nbformat": 4,
  "nbformat_minor": 0,
  "metadata": {
    "colab": {
      "provenance": []
    },
    "kernelspec": {
      "name": "python3",
      "display_name": "Python 3"
    },
    "language_info": {
      "name": "python"
    }
  },
  "cells": [
    {
      "cell_type": "code",
      "source": [
        "!pip install pyspark"
      ],
      "metadata": {
        "id": "V80tBLrZRrrH",
        "colab": {
          "base_uri": "https://localhost:8080/"
        },
        "outputId": "7564c631-8465-40b3-fc38-5b4819e2542c"
      },
      "execution_count": 144,
      "outputs": [
        {
          "output_type": "stream",
          "name": "stdout",
          "text": [
            "Requirement already satisfied: pyspark in /usr/local/lib/python3.10/dist-packages (3.4.1)\n",
            "Requirement already satisfied: py4j==0.10.9.7 in /usr/local/lib/python3.10/dist-packages (from pyspark) (0.10.9.7)\n",
            "\u001b[31mERROR: Operation cancelled by user\u001b[0m\u001b[31m\n",
            "\u001b[0mTraceback (most recent call last):\n",
            "  File \"/usr/local/lib/python3.10/dist-packages/pip/_vendor/pkg_resources/__init__.py\", line 3108, in _dep_map\n",
            "    return self.__dep_map\n",
            "  File \"/usr/local/lib/python3.10/dist-packages/pip/_vendor/pkg_resources/__init__.py\", line 2901, in __getattr__\n",
            "    raise AttributeError(attr)\n",
            "AttributeError: _DistInfoDistribution__dep_map\n",
            "\n",
            "During handling of the above exception, another exception occurred:\n",
            "\n",
            "Traceback (most recent call last):\n",
            "  File \"/usr/local/lib/python3.10/dist-packages/pip/_vendor/pyparsing/core.py\", line 4114, in parseImpl\n",
            "    return e._parse(\n",
            "  File \"/usr/local/lib/python3.10/dist-packages/pip/_vendor/pyparsing/core.py\", line 821, in _parseNoCache\n",
            "    loc, tokens = self.parseImpl(instring, pre_loc, doActions)\n",
            "  File \"/usr/local/lib/python3.10/dist-packages/pip/_vendor/pyparsing/core.py\", line 2341, in parseImpl\n",
            "    raise ParseException(instring, loc, self.errmsg, self)\n",
            "pip._vendor.pyparsing.exceptions.ParseException: Expected 'os.name', found '\"'  (at char 9), (line:1, col:10)\n",
            "\n",
            "During handling of the above exception, another exception occurred:\n",
            "\n",
            "Traceback (most recent call last):\n",
            "  File \"/usr/local/lib/python3.10/dist-packages/pip/_internal/cli/base_command.py\", line 169, in exc_logging_wrapper\n",
            "    status = run_func(*args)\n",
            "  File \"/usr/local/lib/python3.10/dist-packages/pip/_internal/cli/req_command.py\", line 242, in wrapper\n",
            "    return func(self, options, args)\n",
            "  File \"/usr/local/lib/python3.10/dist-packages/pip/_internal/commands/install.py\", line 441, in run\n",
            "    conflicts = self._determine_conflicts(to_install)\n",
            "  File \"/usr/local/lib/python3.10/dist-packages/pip/_internal/commands/install.py\", line 572, in _determine_conflicts\n",
            "    return check_install_conflicts(to_install)\n",
            "  File \"/usr/local/lib/python3.10/dist-packages/pip/_internal/operations/check.py\", line 101, in check_install_conflicts\n",
            "    package_set, _ = create_package_set_from_installed()\n",
            "  File \"/usr/local/lib/python3.10/dist-packages/pip/_internal/operations/check.py\", line 42, in create_package_set_from_installed\n",
            "    dependencies = list(dist.iter_dependencies())\n",
            "  File \"/usr/local/lib/python3.10/dist-packages/pip/_internal/metadata/pkg_resources.py\", line 216, in iter_dependencies\n",
            "    return self._dist.requires(extras)\n",
            "  File \"/usr/local/lib/python3.10/dist-packages/pip/_vendor/pkg_resources/__init__.py\", line 2821, in requires\n",
            "    dm = self._dep_map\n",
            "  File \"/usr/local/lib/python3.10/dist-packages/pip/_vendor/pkg_resources/__init__.py\", line 3110, in _dep_map\n",
            "    self.__dep_map = self._compute_dependencies()\n",
            "  File \"/usr/local/lib/python3.10/dist-packages/pip/_vendor/pkg_resources/__init__.py\", line 3120, in _compute_dependencies\n",
            "    reqs.extend(parse_requirements(req))\n",
            "  File \"/usr/local/lib/python3.10/dist-packages/pip/_vendor/pkg_resources/__init__.py\", line 3173, in __init__\n",
            "    super(Requirement, self).__init__(requirement_string)\n",
            "  File \"/usr/local/lib/python3.10/dist-packages/pip/_vendor/packaging/requirements.py\", line 102, in __init__\n",
            "    req = REQUIREMENT.parseString(requirement_string)\n",
            "  File \"/usr/local/lib/python3.10/dist-packages/pip/_vendor/pyparsing/core.py\", line 1131, in parse_string\n",
            "    loc, tokens = self._parse(instring, 0)\n",
            "  File \"/usr/local/lib/python3.10/dist-packages/pip/_vendor/pyparsing/core.py\", line 817, in _parseNoCache\n",
            "    loc, tokens = self.parseImpl(instring, pre_loc, doActions)\n",
            "  File \"/usr/local/lib/python3.10/dist-packages/pip/_vendor/pyparsing/core.py\", line 3886, in parseImpl\n",
            "    loc, exprtokens = e._parse(instring, loc, doActions)\n",
            "  File \"/usr/local/lib/python3.10/dist-packages/pip/_vendor/pyparsing/core.py\", line 817, in _parseNoCache\n",
            "    loc, tokens = self.parseImpl(instring, pre_loc, doActions)\n",
            "  File \"/usr/local/lib/python3.10/dist-packages/pip/_vendor/pyparsing/core.py\", line 4114, in parseImpl\n",
            "    return e._parse(\n",
            "  File \"/usr/local/lib/python3.10/dist-packages/pip/_vendor/pyparsing/core.py\", line 817, in _parseNoCache\n",
            "    loc, tokens = self.parseImpl(instring, pre_loc, doActions)\n",
            "  File \"/usr/local/lib/python3.10/dist-packages/pip/_vendor/pyparsing/core.py\", line 3886, in parseImpl\n",
            "    loc, exprtokens = e._parse(instring, loc, doActions)\n",
            "  File \"/usr/local/lib/python3.10/dist-packages/pip/_vendor/pyparsing/core.py\", line 817, in _parseNoCache\n",
            "    loc, tokens = self.parseImpl(instring, pre_loc, doActions)\n",
            "  File \"/usr/local/lib/python3.10/dist-packages/pip/_vendor/pyparsing/core.py\", line 4959, in parseImpl\n",
            "    loc, tokens = self_expr._parse(instring, loc, doActions, callPreParse=False)\n",
            "  File \"/usr/local/lib/python3.10/dist-packages/pip/_vendor/pyparsing/core.py\", line 817, in _parseNoCache\n",
            "    loc, tokens = self.parseImpl(instring, pre_loc, doActions)\n",
            "  File \"/usr/local/lib/python3.10/dist-packages/pip/_vendor/pyparsing/core.py\", line 3886, in parseImpl\n",
            "    loc, exprtokens = e._parse(instring, loc, doActions)\n",
            "  File \"/usr/local/lib/python3.10/dist-packages/pip/_vendor/pyparsing/core.py\", line 856, in _parseNoCache\n",
            "    tokens = fn(instring, tokens_start, ret_tokens)\n",
            "  File \"/usr/local/lib/python3.10/dist-packages/pip/_vendor/pyparsing/core.py\", line 291, in wrapper\n",
            "    ret = func(*args[limit:])\n",
            "  File \"/usr/local/lib/python3.10/dist-packages/pip/_vendor/packaging/requirements.py\", line 71, in <lambda>\n",
            "    lambda s, l, t: Marker(s[t._original_start : t._original_end])\n",
            "  File \"/usr/local/lib/python3.10/dist-packages/pip/_vendor/packaging/markers.py\", line 278, in __init__\n",
            "    self._markers = _coerce_parse_result(MARKER.parseString(marker))\n",
            "  File \"/usr/local/lib/python3.10/dist-packages/pip/_vendor/pyparsing/core.py\", line 1131, in parse_string\n",
            "    loc, tokens = self._parse(instring, 0)\n",
            "  File \"/usr/local/lib/python3.10/dist-packages/pip/_vendor/pyparsing/core.py\", line 817, in _parseNoCache\n",
            "    loc, tokens = self.parseImpl(instring, pre_loc, doActions)\n",
            "  File \"/usr/local/lib/python3.10/dist-packages/pip/_vendor/pyparsing/core.py\", line 3886, in parseImpl\n",
            "    loc, exprtokens = e._parse(instring, loc, doActions)\n",
            "  File \"/usr/local/lib/python3.10/dist-packages/pip/_vendor/pyparsing/core.py\", line 817, in _parseNoCache\n",
            "    loc, tokens = self.parseImpl(instring, pre_loc, doActions)\n",
            "  File \"/usr/local/lib/python3.10/dist-packages/pip/_vendor/pyparsing/core.py\", line 5226, in parseImpl\n",
            "    return super().parseImpl(instring, loc, doActions)\n",
            "  File \"/usr/local/lib/python3.10/dist-packages/pip/_vendor/pyparsing/core.py\", line 4375, in parseImpl\n",
            "    return self.expr._parse(instring, loc, doActions, callPreParse=False)\n",
            "  File \"/usr/local/lib/python3.10/dist-packages/pip/_vendor/pyparsing/core.py\", line 817, in _parseNoCache\n",
            "    loc, tokens = self.parseImpl(instring, pre_loc, doActions)\n",
            "  File \"/usr/local/lib/python3.10/dist-packages/pip/_vendor/pyparsing/core.py\", line 3864, in parseImpl\n",
            "    loc, resultlist = self.exprs[0]._parse(\n",
            "  File \"/usr/local/lib/python3.10/dist-packages/pip/_vendor/pyparsing/core.py\", line 817, in _parseNoCache\n",
            "    loc, tokens = self.parseImpl(instring, pre_loc, doActions)\n",
            "  File \"/usr/local/lib/python3.10/dist-packages/pip/_vendor/pyparsing/core.py\", line 4114, in parseImpl\n",
            "    return e._parse(\n",
            "  File \"/usr/local/lib/python3.10/dist-packages/pip/_vendor/pyparsing/core.py\", line 817, in _parseNoCache\n",
            "    loc, tokens = self.parseImpl(instring, pre_loc, doActions)\n",
            "  File \"/usr/local/lib/python3.10/dist-packages/pip/_vendor/pyparsing/core.py\", line 4375, in parseImpl\n",
            "    return self.expr._parse(instring, loc, doActions, callPreParse=False)\n",
            "  File \"/usr/local/lib/python3.10/dist-packages/pip/_vendor/pyparsing/core.py\", line 817, in _parseNoCache\n",
            "    loc, tokens = self.parseImpl(instring, pre_loc, doActions)\n",
            "  File \"/usr/local/lib/python3.10/dist-packages/pip/_vendor/pyparsing/core.py\", line 3886, in parseImpl\n",
            "    loc, exprtokens = e._parse(instring, loc, doActions)\n",
            "  File \"/usr/local/lib/python3.10/dist-packages/pip/_vendor/pyparsing/core.py\", line 817, in _parseNoCache\n",
            "    loc, tokens = self.parseImpl(instring, pre_loc, doActions)\n",
            "  File \"/usr/local/lib/python3.10/dist-packages/pip/_vendor/pyparsing/core.py\", line 4114, in parseImpl\n",
            "    return e._parse(\n",
            "  File \"/usr/local/lib/python3.10/dist-packages/pip/_vendor/pyparsing/core.py\", line 817, in _parseNoCache\n",
            "    loc, tokens = self.parseImpl(instring, pre_loc, doActions)\n",
            "  File \"/usr/local/lib/python3.10/dist-packages/pip/_vendor/pyparsing/core.py\", line 4114, in parseImpl\n",
            "    return e._parse(\n",
            "KeyboardInterrupt\n",
            "\n",
            "During handling of the above exception, another exception occurred:\n",
            "\n",
            "Traceback (most recent call last):\n",
            "  File \"/usr/local/bin/pip3\", line 8, in <module>\n",
            "    sys.exit(main())\n",
            "  File \"/usr/local/lib/python3.10/dist-packages/pip/_internal/cli/main.py\", line 79, in main\n",
            "    return command.main(cmd_args)\n",
            "  File \"/usr/local/lib/python3.10/dist-packages/pip/_internal/cli/base_command.py\", line 101, in main\n",
            "    return self._main(args)\n",
            "  File \"/usr/local/lib/python3.10/dist-packages/pip/_internal/cli/base_command.py\", line 223, in _main\n",
            "    return run(options, args)\n",
            "  File \"/usr/local/lib/python3.10/dist-packages/pip/_internal/cli/base_command.py\", line 207, in exc_logging_wrapper\n",
            "    logger.debug(\"Exception information:\", exc_info=True)\n",
            "  File \"/usr/lib/python3.10/logging/__init__.py\", line 1465, in debug\n",
            "    self._log(DEBUG, msg, args, **kwargs)\n",
            "  File \"/usr/lib/python3.10/logging/__init__.py\", line 1624, in _log\n",
            "    self.handle(record)\n",
            "  File \"/usr/lib/python3.10/logging/__init__.py\", line 1634, in handle\n",
            "    self.callHandlers(record)\n",
            "  File \"/usr/lib/python3.10/logging/__init__.py\", line 1696, in callHandlers\n",
            "    hdlr.handle(record)\n",
            "  File \"/usr/lib/python3.10/logging/__init__.py\", line 968, in handle\n",
            "    self.emit(record)\n",
            "  File \"/usr/lib/python3.10/logging/handlers.py\", line 75, in emit\n",
            "    logging.FileHandler.emit(self, record)\n",
            "  File \"/usr/lib/python3.10/logging/__init__.py\", line 1218, in emit\n",
            "    StreamHandler.emit(self, record)\n",
            "  File \"/usr/lib/python3.10/logging/__init__.py\", line 1100, in emit\n",
            "    msg = self.format(record)\n",
            "  File \"/usr/lib/python3.10/logging/__init__.py\", line 943, in format\n",
            "    return fmt.format(record)\n",
            "  File \"/usr/local/lib/python3.10/dist-packages/pip/_internal/utils/logging.py\", line 112, in format\n",
            "    formatted = super().format(record)\n",
            "  File \"/usr/lib/python3.10/logging/__init__.py\", line 686, in format\n",
            "    record.exc_text = self.formatException(record.exc_info)\n",
            "  File \"/usr/lib/python3.10/logging/__init__.py\", line 636, in formatException\n",
            "    traceback.print_exception(ei[0], ei[1], tb, None, sio)\n",
            "  File \"/usr/lib/python3.10/traceback.py\", line 119, in print_exception\n",
            "    te = TracebackException(type(value), value, tb, limit=limit, compact=True)\n",
            "  File \"/usr/lib/python3.10/traceback.py\", line 502, in __init__\n",
            "    self.stack = StackSummary.extract(\n",
            "  File \"/usr/lib/python3.10/traceback.py\", line 383, in extract\n",
            "    f.line\n",
            "  File \"/usr/lib/python3.10/traceback.py\", line 306, in line\n",
            "    self._line = linecache.getline(self.filename, self.lineno)\n",
            "  File \"/usr/lib/python3.10/linecache.py\", line 30, in getline\n",
            "    lines = getlines(filename, module_globals)\n",
            "  File \"/usr/lib/python3.10/linecache.py\", line 46, in getlines\n",
            "    return updatecache(filename, module_globals)\n",
            "  File \"/usr/lib/python3.10/linecache.py\", line 136, in updatecache\n",
            "    with tokenize.open(fullname) as fp:\n",
            "  File \"/usr/lib/python3.10/tokenize.py\", line 394, in open\n",
            "    buffer = _builtin_open(filename, 'rb')\n",
            "KeyboardInterrupt\n",
            "^C\n"
          ]
        }
      ]
    },
    {
      "cell_type": "code",
      "execution_count": 145,
      "metadata": {
        "colab": {
          "base_uri": "https://localhost:8080/"
        },
        "id": "xNVPbtHnQUwT",
        "outputId": "d04ac1af-de4e-4b68-816b-ee10d4eca771"
      },
      "outputs": [
        {
          "output_type": "stream",
          "name": "stdout",
          "text": [
            "+-------+---+\n",
            "|   Name|Age|\n",
            "+-------+---+\n",
            "|  Alice| 25|\n",
            "|    Bob| 30|\n",
            "|Charlie| 22|\n",
            "+-------+---+\n",
            "\n"
          ]
        }
      ],
      "source": [
        "import pyspark as ps\n",
        "import pandas as pd\n",
        "\n",
        "spark = ps.sql.SparkSession.builder.master(\"local\").appName(\"test1\").getOrCreate()\n",
        "data = [(\"Alice\", 25), (\"Bob\", 30), (\"Charlie\", 22)]\n",
        "columns = [\"Name\", \"Age\"]\n",
        "df = spark.createDataFrame(data, columns)\n",
        "df.show()"
      ]
    },
    {
      "cell_type": "code",
      "source": [
        "# spark.stop()"
      ],
      "metadata": {
        "id": "lCUeMC71jg0S"
      },
      "execution_count": 146,
      "outputs": []
    },
    {
      "cell_type": "code",
      "source": [
        "spark2 = ps.sql.SparkSession.builder.getOrCreate()\n",
        "book_df = spark2.read.csv('books.csv',header = True,inferSchema=True)\n",
        "book_df.show(10)"
      ],
      "metadata": {
        "colab": {
          "base_uri": "https://localhost:8080/"
        },
        "id": "35BS_NOuRDaa",
        "outputId": "83879a0d-a2ab-4fb8-9257-54f2c8275edd"
      },
      "execution_count": 147,
      "outputs": [
        {
          "output_type": "stream",
          "name": "stdout",
          "text": [
            "+---+--------+------------+--------+-----------+----------+----------------+--------------------+-------------------------+--------------------+--------------------+-------------+--------------+-------------+------------------+-----------------------+---------+---------+---------+---------+---------+--------------------+--------------------+\n",
            "| id| book_id|best_book_id| work_id|books_count|      isbn|          isbn13|             authors|original_publication_year|      original_title|               title|language_code|average_rating|ratings_count|work_ratings_count|work_text_reviews_count|ratings_1|ratings_2|ratings_3|ratings_4|ratings_5|           image_url|     small_image_url|\n",
            "+---+--------+------------+--------+-----------+----------+----------------+--------------------+-------------------------+--------------------+--------------------+-------------+--------------+-------------+------------------+-----------------------+---------+---------+---------+---------+---------+--------------------+--------------------+\n",
            "|  1| 2767052|     2767052| 2792775|        272| 439023483|9.78043902348E12|     Suzanne Collins|                   2008.0|    The Hunger Games|The Hunger Games ...|          eng|          4.34|      4780653|           4942365|                 155254|  66715.0|   127936|   560092|  1481305|  2706317|https://images.gr...|https://images.gr...|\n",
            "|  2|       3|           3| 4640799|        491| 439554934|9.78043955493E12|J.K. Rowling, Mar...|                   1997.0|Harry Potter and ...|Harry Potter and ...|          eng|          4.44|      4602479|           4800065|                  75867|  75504.0|   101676|   455024|  1156318|  3011543|https://images.gr...|https://images.gr...|\n",
            "|  3|   41865|       41865| 3212258|        226| 316015849|9.78031601584E12|     Stephenie Meyer|                   2005.0|            Twilight|Twilight (Twiligh...|        en-US|          3.57|      3866839|           3916824|                  95009| 456191.0|   436802|   793319|   875073|  1355439|https://images.gr...|https://images.gr...|\n",
            "|  4|    2657|        2657| 3275794|        487|  61120081|9.78006112008E12|          Harper Lee|                   1960.0|To Kill a Mocking...|To Kill a Mocking...|          eng|          4.25|      3198671|           3340896|                  72586|  60427.0|   117415|   446835|  1001952|  1714267|https://images.gr...|https://images.gr...|\n",
            "|  5|    4671|        4671|  245494|       1356| 743273567|9.78074327356E12| F. Scott Fitzgerald|                   1925.0|    The Great Gatsby|    The Great Gatsby|          eng|          3.89|      2683664|           2773745|                  51992|  86236.0|   197621|   606158|   936012|   947718|https://images.gr...|https://images.gr...|\n",
            "|  6|11870085|    11870085|16827462|        226| 525478817|9.78052547881E12|          John Green|                   2012.0|The Fault in Our ...|The Fault in Our ...|          eng|          4.26|      2346404|           2478609|                 140739|  47994.0|    92723|   327550|   698471|  1311871|https://images.gr...|https://images.gr...|\n",
            "|  7|    5907|        5907| 1540236|        969| 618260307| 9.7806182603E12|      J.R.R. Tolkien|                   1937.0|The Hobbit or The...|          The Hobbit|        en-US|          4.25|      2071616|           2196809|                  37653|  46023.0|    76784|   288649|   665635|  1119718|https://images.gr...|https://images.gr...|\n",
            "|  8|    5107|        5107| 3036731|        360| 316769177|9.78031676917E12|       J.D. Salinger|                   1951.0|The Catcher in th...|The Catcher in th...|          eng|          3.79|      2044241|           2120637|                  44920| 109383.0|   185520|   455042|   661516|   709176|https://images.gr...|https://images.gr...|\n",
            "|  9|     960|         960| 3338963|        311|1416524797|9.78141652479E12|           Dan Brown|                   2000.0|    Angels & Demons |Angels & Demons  ...|        en-CA|          3.85|      2001311|           2078754|                  25112|  77841.0|   145740|   458429|   716569|   680175|https://images.gr...|https://images.gr...|\n",
            "| 10|    1885|        1885| 3060926|       3455| 679783261|9.78067978327E12|         Jane Austen|                   1813.0| Pride and Prejudice| Pride and Prejudice|          eng|          4.24|      2035490|           2191465|                  49152|  54700.0|    86485|   284852|   609755|  1155673|https://images.gr...|https://images.gr...|\n",
            "+---+--------+------------+--------+-----------+----------+----------------+--------------------+-------------------------+--------------------+--------------------+-------------+--------------+-------------+------------------+-----------------------+---------+---------+---------+---------+---------+--------------------+--------------------+\n",
            "only showing top 10 rows\n",
            "\n"
          ]
        }
      ]
    },
    {
      "cell_type": "code",
      "source": [
        "book_df.count(),len(book_df.columns)"
      ],
      "metadata": {
        "colab": {
          "base_uri": "https://localhost:8080/"
        },
        "id": "f0QZb93Berpz",
        "outputId": "76f37f05-810c-47ca-867c-c07a88759911"
      },
      "execution_count": 148,
      "outputs": [
        {
          "output_type": "execute_result",
          "data": {
            "text/plain": [
              "(10000, 23)"
            ]
          },
          "metadata": {},
          "execution_count": 148
        }
      ]
    },
    {
      "cell_type": "code",
      "source": [
        "book_df.describe(\"books_count\").show(5)"
      ],
      "metadata": {
        "colab": {
          "base_uri": "https://localhost:8080/"
        },
        "id": "GDBph07ulNh1",
        "outputId": "ef89524d-b517-44f9-c1a8-3aed7150a1b0"
      },
      "execution_count": 149,
      "outputs": [
        {
          "output_type": "stream",
          "name": "stdout",
          "text": [
            "+-------+-----------------+\n",
            "|summary|      books_count|\n",
            "+-------+-----------------+\n",
            "|  count|            10000|\n",
            "|   mean|          75.7127|\n",
            "| stddev|170.4707276502584|\n",
            "|    min|                1|\n",
            "|    max|             3455|\n",
            "+-------+-----------------+\n",
            "\n"
          ]
        }
      ]
    },
    {
      "cell_type": "code",
      "source": [
        "book_df.select('original_title').show(5)"
      ],
      "metadata": {
        "id": "Y0_I-70tfJq3",
        "colab": {
          "base_uri": "https://localhost:8080/"
        },
        "outputId": "d1a3159b-d428-42d0-f880-07d2e6c7f2ad"
      },
      "execution_count": 150,
      "outputs": [
        {
          "output_type": "stream",
          "name": "stdout",
          "text": [
            "+--------------------+\n",
            "|      original_title|\n",
            "+--------------------+\n",
            "|    The Hunger Games|\n",
            "|Harry Potter and ...|\n",
            "|            Twilight|\n",
            "|To Kill a Mocking...|\n",
            "|    The Great Gatsby|\n",
            "+--------------------+\n",
            "only showing top 5 rows\n",
            "\n"
          ]
        }
      ]
    },
    {
      "cell_type": "code",
      "source": [
        "book_df.groupBy('authors').count().show()"
      ],
      "metadata": {
        "colab": {
          "base_uri": "https://localhost:8080/"
        },
        "id": "qtFeRxqum9Cn",
        "outputId": "25f741b5-087e-405c-d613-27c5de7686f5"
      },
      "execution_count": 151,
      "outputs": [
        {
          "output_type": "stream",
          "name": "stdout",
          "text": [
            "+--------------------+-----+\n",
            "|             authors|count|\n",
            "+--------------------+-----+\n",
            "|         Lisa Genova|    4|\n",
            "|          James Frey|    3|\n",
            "|              Banksy|    1|\n",
            "|Grant Morrison, D...|    1|\n",
            "|    Elin Hilderbrand|   15|\n",
            "|     Karen Armstrong|    1|\n",
            "|Thomas More, Paul...|    1|\n",
            "|        Mia Sheridan|    2|\n",
            "|         Kylie Scott|    5|\n",
            "|      Rosamund Hodge|    1|\n",
            "|Garth Ennis, Stev...|    1|\n",
            "|Isa Chandra Mosko...|    1|\n",
            "|          Dava Sobel|    1|\n",
            "|Fábio Moon, Gabri...|    1|\n",
            "|   Sharon Kay Penman|    3|\n",
            "|    Joshilyn Jackson|    3|\n",
            "|        Geoff Colvin|    1|\n",
            "|Maud Hart Lovelac...|    1|\n",
            "|         Bruce Degen|    1|\n",
            "|        Doug Stanton|    1|\n",
            "+--------------------+-----+\n",
            "only showing top 20 rows\n",
            "\n"
          ]
        }
      ]
    },
    {
      "cell_type": "code",
      "source": [
        "book_df.filter('average_rating > 4.5').show(10)"
      ],
      "metadata": {
        "colab": {
          "base_uri": "https://localhost:8080/"
        },
        "id": "hiBVut6QkcmH",
        "outputId": "9947e953-656a-4220-c6a2-d8e3a089866b"
      },
      "execution_count": 152,
      "outputs": [
        {
          "output_type": "stream",
          "name": "stdout",
          "text": [
            "+---+--------+------------+--------+-----------+----------+----------------+--------------------+-------------------------+--------------------+--------------------+-------------+--------------+-------------+------------------+-----------------------+---------+---------+---------+---------+---------+--------------------+--------------------+\n",
            "| id| book_id|best_book_id| work_id|books_count|      isbn|          isbn13|             authors|original_publication_year|      original_title|               title|language_code|average_rating|ratings_count|work_ratings_count|work_text_reviews_count|ratings_1|ratings_2|ratings_3|ratings_4|ratings_5|           image_url|     small_image_url|\n",
            "+---+--------+------------+--------+-----------+----------+----------------+--------------------+-------------------------+--------------------+--------------------+-------------+--------------+-------------+------------------+-----------------------+---------+---------+---------+---------+---------+--------------------+--------------------+\n",
            "| 18|       5|           5| 2402163|        376|043965548X|9.78043965548E12|J.K. Rowling, Mar...|                   1999.0|Harry Potter and ...|Harry Potter and ...|          eng|          4.53|      1832823|           1969375|                  36099|   6716.0|    20413|   166129|   509447|  1266670|https://images.gr...|https://images.gr...|\n",
            "| 24|       6|           6| 3046572|        332| 439139600| 9.7804391396E12|J.K. Rowling, Mar...|                   2000.0|Harry Potter and ...|Harry Potter and ...|          eng|          4.53|      1753043|           1868642|                  31084|   6676.0|    20210|   151785|   494926|  1195045|https://images.gr...|https://images.gr...|\n",
            "| 25|  136251|      136251| 2963218|        263| 545010225|9.78054501022E12|J.K. Rowling, Mar...|                   2007.0|Harry Potter and ...|Harry Potter and ...|          eng|          4.61|      1746574|           1847395|                  51942|   9363.0|    22245|   113646|   383914|  1318227|https://images.gr...|https://images.gr...|\n",
            "| 27|       1|           1|41335427|        275| 439785960|9.78043978597E12|J.K. Rowling, Mar...|                   2005.0|Harry Potter and ...|Harry Potter and ...|          eng|          4.54|      1678823|           1785676|                  27520|   7308.0|    21516|   136333|   459028|  1161491|https://images.gr...|https://images.gr...|\n",
            "|135|   62291|       62291| 1164465|        175|055357342X|9.78055357343E12|  George R.R. Martin|                   2000.0|   A Storm of Swords|A Storm of Swords...|          eng|          4.54|       469022|            527644|                  19497|   1456.0|     4820|    36418|   149268|   335682|https://images.gr...|https://images.gr...|\n",
            "|161|   18512|       18512| 2964424|        470| 345339738|9.78034533974E12|      J.R.R. Tolkien|                   1955.0|The Return of the...|The Return of the...|        en-US|          4.51|       463959|            510537|                   6644|   2691.0|     8008|    42693|   132149|   324996|https://images.gr...|https://images.gr...|\n",
            "|192|  186074|      186074| 2502879|        123|075640407X|9.78075640408E12|    Patrick Rothfuss|                   2007.0|The Name of the Wind|The Name of the W...|          eng|          4.55|       400101|            449372|                  28631|   5605.0|     8582|    28480|    95470|   311235|https://images.gr...|https://images.gr...|\n",
            "|267|21853621|    21853621|41125521|         90| 312577222|9.78031257722E12|      Kristin Hannah|                   2015.0|     The Nightingale|     The Nightingale|          eng|          4.54|       253606|            327015|                  37279|   2829.0|     4913|    20612|    82844|   215817|https://images.gr...|https://images.gr...|\n",
            "|307| 1215032|     1215032| 2502882|        102| 756404738|9.78075640473E12|    Patrick Rothfuss|                   2011.0| The Wise Man's Fear|The Wise Man's Fe...|          eng|          4.57|       245686|            282349|                  15503|   1486.0|     4018|    17932|    66415|   192498|https://images.gr...|https://images.gr...|\n",
            "|422|  862041|      862041| 2962492|         76| 545044251|9.78054504426E12|        J.K. Rowling|                   1998.0|Complete Harry Po...|Harry Potter Boxs...|          eng|          4.74|       190050|            204125|                   6508|   1105.0|     1285|     7020|    30666|   164049|https://images.gr...|https://images.gr...|\n",
            "+---+--------+------------+--------+-----------+----------+----------------+--------------------+-------------------------+--------------------+--------------------+-------------+--------------+-------------+------------------+-----------------------+---------+---------+---------+---------+---------+--------------------+--------------------+\n",
            "only showing top 10 rows\n",
            "\n"
          ]
        }
      ]
    },
    {
      "cell_type": "markdown",
      "source": [],
      "metadata": {
        "id": "ZypnOyaooD8k"
      }
    },
    {
      "cell_type": "code",
      "source": [
        "book_df.select('authors').distinct().count()"
      ],
      "metadata": {
        "colab": {
          "base_uri": "https://localhost:8080/"
        },
        "id": "1vDwAArvlBV_",
        "outputId": "5650e114-57f1-4b04-db17-fedce37d0b91"
      },
      "execution_count": 153,
      "outputs": [
        {
          "output_type": "execute_result",
          "data": {
            "text/plain": [
              "4664"
            ]
          },
          "metadata": {},
          "execution_count": 153
        }
      ]
    },
    {
      "cell_type": "code",
      "source": [
        "df2 = book_df.dropDuplicates()\n",
        "df2 = df2.dropna()\n",
        "df2.count()"
      ],
      "metadata": {
        "colab": {
          "base_uri": "https://localhost:8080/"
        },
        "id": "555kH16NlgqK",
        "outputId": "d7d0e0a2-3840-4e34-d8e5-858a37253bf6"
      },
      "execution_count": 154,
      "outputs": [
        {
          "output_type": "execute_result",
          "data": {
            "text/plain": [
              "7860"
            ]
          },
          "metadata": {},
          "execution_count": 154
        }
      ]
    },
    {
      "cell_type": "code",
      "source": [
        "df2.withColumn('average_rating',df2.average_rating / 5 * 100).show(5)"
      ],
      "metadata": {
        "colab": {
          "base_uri": "https://localhost:8080/"
        },
        "id": "5azVq3C6n75X",
        "outputId": "3d01ff18-be01-4d4b-c176-6e86de59967d"
      },
      "execution_count": 155,
      "outputs": [
        {
          "output_type": "stream",
          "name": "stdout",
          "text": [
            "+---+-------+------------+-------+-----------+---------+----------------+--------------------+-------------------------+--------------------+--------------------+-------------+-----------------+-------------+------------------+-----------------------+---------+---------+---------+---------+---------+--------------------+--------------------+\n",
            "| id|book_id|best_book_id|work_id|books_count|     isbn|          isbn13|             authors|original_publication_year|      original_title|               title|language_code|   average_rating|ratings_count|work_ratings_count|work_text_reviews_count|ratings_1|ratings_2|ratings_3|ratings_4|ratings_5|           image_url|     small_image_url|\n",
            "+---+-------+------------+-------+-----------+---------+----------------+--------------------+-------------------------+--------------------+--------------------+-------------+-----------------+-------------+------------------+-----------------------+---------+---------+---------+---------+---------+--------------------+--------------------+\n",
            "| 24|      6|           6|3046572|        332|439139600| 9.7804391396E12|J.K. Rowling, Mar...|                   2000.0|Harry Potter and ...|Harry Potter and ...|          eng|90.60000000000001|      1753043|           1868642|                  31084|   6676.0|    20210|   151785|   494926|  1195045|https://images.gr...|https://images.gr...|\n",
            "| 40|  19501|       19501|3352398|        185|143038419|9.78014303841E12|   Elizabeth Gilbert|                   2006.0|Eat, pray, love: ...|     Eat, Pray, Love|          eng|70.19999999999999|      1181647|           1206597|                  49714| 100373.0|   149549|   310212|   332191|   314272|https://images.gr...|https://images.gr...|\n",
            "|151|  28186|       28186|  43554|        121|786856866|9.78078685686E12|        Rick Riordan|                   2006.0| The Sea of Monsters|The Sea of Monste...|          eng|84.60000000000001|       514932|            550512|                  20097|   2967.0|    13884|    91127|   188988|   253546|https://images.gr...|https://images.gr...|\n",
            "|440|7315573|     7315573|8842841|        140|525951652|9.78052595165E12|         Ken Follett|                   2010.0|      Fall of Giants|Fall of Giants (T...|          eng|             85.2|       168911|            190478|                  11859|   2009.0|     5158|    24893|    68375|    90043|https://images.gr...|https://images.gr...|\n",
            "|688|  10847|       10847|1723947|         37|330419129|9.78033041912E12|        Jon Krakauer|                   2003.0|Under the Banner ...|Under the Banner ...|          eng|79.60000000000001|       112167|            123697|                   8947|   1958.0|     5259|    25101|    52050|    39329|https://images.gr...|https://images.gr...|\n",
            "+---+-------+------------+-------+-----------+---------+----------------+--------------------+-------------------------+--------------------+--------------------+-------------+-----------------+-------------+------------------+-----------------------+---------+---------+---------+---------+---------+--------------------+--------------------+\n",
            "only showing top 5 rows\n",
            "\n"
          ]
        }
      ]
    },
    {
      "cell_type": "markdown",
      "source": [
        "### Pyspark with machinelearning(Classification)"
      ],
      "metadata": {
        "id": "E8podxXaqHkh"
      }
    },
    {
      "cell_type": "code",
      "source": [
        "from pyspark.sql import SparkSession\n",
        "from pyspark.ml.feature import StringIndexer, VectorAssembler\n",
        "from pyspark.ml.feature import StandardScaler\n",
        "from pyspark.ml.classification import LogisticRegression\n",
        "from pyspark.ml.classification import NaiveBayes\n",
        "from pyspark.ml.classification import RandomForestClassifier\n",
        "from pyspark.ml.classification import GBTClassifier\n",
        "from pyspark.ml.evaluation import MulticlassClassificationEvaluator"
      ],
      "metadata": {
        "id": "toT1FzbwpLHf"
      },
      "execution_count": 156,
      "outputs": []
    },
    {
      "cell_type": "code",
      "source": [
        "spark = SparkSession.builder.appName(\"IrisClassification\").getOrCreate()"
      ],
      "metadata": {
        "id": "o8kw6VCNq1fd"
      },
      "execution_count": 158,
      "outputs": []
    },
    {
      "cell_type": "code",
      "source": [
        "data = spark.read.csv(\"iris.csv\", header=True, inferSchema=True)\n",
        "data.show(10)"
      ],
      "metadata": {
        "colab": {
          "base_uri": "https://localhost:8080/"
        },
        "id": "rHQSxsW9sOGX",
        "outputId": "1304db15-69c2-4979-a109-06412c7bab61"
      },
      "execution_count": 159,
      "outputs": [
        {
          "output_type": "stream",
          "name": "stdout",
          "text": [
            "+------------+-----------+------------+-----------+-------+\n",
            "|sepal_length|sepal_width|petal_length|petal_width|species|\n",
            "+------------+-----------+------------+-----------+-------+\n",
            "|         5.1|        3.5|         1.4|        0.2| setosa|\n",
            "|         4.9|        3.0|         1.4|        0.2| setosa|\n",
            "|         4.7|        3.2|         1.3|        0.2| setosa|\n",
            "|         4.6|        3.1|         1.5|        0.2| setosa|\n",
            "|         5.0|        3.6|         1.4|        0.2| setosa|\n",
            "|         5.4|        3.9|         1.7|        0.4| setosa|\n",
            "|         4.6|        3.4|         1.4|        0.3| setosa|\n",
            "|         5.0|        3.4|         1.5|        0.2| setosa|\n",
            "|         4.4|        2.9|         1.4|        0.2| setosa|\n",
            "|         4.9|        3.1|         1.5|        0.1| setosa|\n",
            "+------------+-----------+------------+-----------+-------+\n",
            "only showing top 10 rows\n",
            "\n"
          ]
        }
      ]
    },
    {
      "cell_type": "code",
      "source": [
        "# Converting 'species' column to numerical\n",
        "indexer = StringIndexer(inputCol=\"species\", outputCol=\"label\")\n",
        "data = indexer.fit(data).transform(data)\n",
        "data.show(5)"
      ],
      "metadata": {
        "colab": {
          "base_uri": "https://localhost:8080/"
        },
        "id": "YF-LTabLr85M",
        "outputId": "3e461dff-9ed8-4424-a3c3-f6f96c4a32c2"
      },
      "execution_count": 160,
      "outputs": [
        {
          "output_type": "stream",
          "name": "stdout",
          "text": [
            "+------------+-----------+------------+-----------+-------+-----+\n",
            "|sepal_length|sepal_width|petal_length|petal_width|species|label|\n",
            "+------------+-----------+------------+-----------+-------+-----+\n",
            "|         5.1|        3.5|         1.4|        0.2| setosa|  0.0|\n",
            "|         4.9|        3.0|         1.4|        0.2| setosa|  0.0|\n",
            "|         4.7|        3.2|         1.3|        0.2| setosa|  0.0|\n",
            "|         4.6|        3.1|         1.5|        0.2| setosa|  0.0|\n",
            "|         5.0|        3.6|         1.4|        0.2| setosa|  0.0|\n",
            "+------------+-----------+------------+-----------+-------+-----+\n",
            "only showing top 5 rows\n",
            "\n"
          ]
        }
      ]
    },
    {
      "cell_type": "code",
      "source": [
        "# Assembling features into a single vector\n",
        "feature_cols = [\"sepal_length\", \"sepal_width\", \"petal_length\", \"petal_width\"]\n",
        "assembler = VectorAssembler(inputCols=feature_cols, outputCol=\"features\")\n",
        "data = assembler.transform(data)\n",
        "data.show(5)"
      ],
      "metadata": {
        "colab": {
          "base_uri": "https://localhost:8080/"
        },
        "id": "MdD7H3y4sr5i",
        "outputId": "36a7a955-1618-428a-f9c5-2cd7e5c13d10"
      },
      "execution_count": 161,
      "outputs": [
        {
          "output_type": "stream",
          "name": "stdout",
          "text": [
            "+------------+-----------+------------+-----------+-------+-----+-----------------+\n",
            "|sepal_length|sepal_width|petal_length|petal_width|species|label|         features|\n",
            "+------------+-----------+------------+-----------+-------+-----+-----------------+\n",
            "|         5.1|        3.5|         1.4|        0.2| setosa|  0.0|[5.1,3.5,1.4,0.2]|\n",
            "|         4.9|        3.0|         1.4|        0.2| setosa|  0.0|[4.9,3.0,1.4,0.2]|\n",
            "|         4.7|        3.2|         1.3|        0.2| setosa|  0.0|[4.7,3.2,1.3,0.2]|\n",
            "|         4.6|        3.1|         1.5|        0.2| setosa|  0.0|[4.6,3.1,1.5,0.2]|\n",
            "|         5.0|        3.6|         1.4|        0.2| setosa|  0.0|[5.0,3.6,1.4,0.2]|\n",
            "+------------+-----------+------------+-----------+-------+-----+-----------------+\n",
            "only showing top 5 rows\n",
            "\n"
          ]
        }
      ]
    },
    {
      "cell_type": "code",
      "source": [
        "train_df, test_df = data.randomSplit([0.8, 0.2], seed=42)"
      ],
      "metadata": {
        "id": "C1LG_xX3s49s"
      },
      "execution_count": 162,
      "outputs": []
    },
    {
      "cell_type": "markdown",
      "source": [
        "### RandomForest"
      ],
      "metadata": {
        "id": "97jser48vAtq"
      }
    },
    {
      "cell_type": "code",
      "source": [
        "rf_classifier = RandomForestClassifier(featuresCol=\"features\", labelCol=\"label\")\n",
        "model = rf_classifier.fit(train_df)"
      ],
      "metadata": {
        "id": "drihrghotSr0"
      },
      "execution_count": 163,
      "outputs": []
    },
    {
      "cell_type": "code",
      "source": [
        "# predictions\n",
        "pred = model.transform(test_df)"
      ],
      "metadata": {
        "id": "JnEOKH6Dtnoz"
      },
      "execution_count": 164,
      "outputs": []
    },
    {
      "cell_type": "code",
      "source": [
        "#evaluation\n",
        "evaluator = MulticlassClassificationEvaluator(labelCol=\"label\", predictionCol=\"prediction\", metricName=\"accuracy\")\n",
        "accuracy = evaluator.evaluate(pred)\n",
        "print(\"Accuracy: {:.2f}%\".format(accuracy * 100))"
      ],
      "metadata": {
        "colab": {
          "base_uri": "https://localhost:8080/"
        },
        "id": "EEfCcH_ctjgc",
        "outputId": "3e73f55e-b4a9-4c9a-e802-94be03d17a73"
      },
      "execution_count": 165,
      "outputs": [
        {
          "output_type": "stream",
          "name": "stdout",
          "text": [
            "Accuracy: 95.83%\n"
          ]
        }
      ]
    },
    {
      "cell_type": "code",
      "source": [
        "result = pred.select(\"prediction\", \"label\", \"features\")\n",
        "result.show()"
      ],
      "metadata": {
        "colab": {
          "base_uri": "https://localhost:8080/"
        },
        "id": "tcOFw3eWuK88",
        "outputId": "fde39dfa-83ad-40c8-8260-35f561c135f0"
      },
      "execution_count": 166,
      "outputs": [
        {
          "output_type": "stream",
          "name": "stdout",
          "text": [
            "+----------+-----+-----------------+\n",
            "|prediction|label|         features|\n",
            "+----------+-----+-----------------+\n",
            "|       0.0|  0.0|[4.4,3.0,1.3,0.2]|\n",
            "|       0.0|  0.0|[4.6,3.2,1.4,0.2]|\n",
            "|       0.0|  0.0|[4.6,3.6,1.0,0.2]|\n",
            "|       0.0|  0.0|[4.8,3.1,1.6,0.2]|\n",
            "|       0.0|  0.0|[4.9,3.1,1.5,0.1]|\n",
            "|       1.0|  1.0|[5.0,2.3,3.3,1.0]|\n",
            "|       0.0|  0.0|[5.0,3.5,1.3,0.3]|\n",
            "|       0.0|  0.0|[5.1,3.5,1.4,0.2]|\n",
            "|       0.0|  0.0|[5.3,3.7,1.5,0.2]|\n",
            "|       1.0|  1.0|[5.4,3.0,4.5,1.5]|\n",
            "|       0.0|  0.0|[5.4,3.4,1.5,0.4]|\n",
            "|       0.0|  0.0|[5.4,3.7,1.5,0.2]|\n",
            "|       0.0|  0.0|[5.4,3.9,1.7,0.4]|\n",
            "|       1.0|  1.0|[5.5,2.5,4.0,1.3]|\n",
            "|       1.0|  1.0|[5.6,2.9,3.6,1.3]|\n",
            "|       1.0|  1.0|[5.7,2.9,4.2,1.3]|\n",
            "|       2.0|  2.0|[5.8,2.7,5.1,1.9]|\n",
            "|       2.0|  1.0|[6.3,2.5,4.9,1.5]|\n",
            "|       2.0|  2.0|[6.4,3.1,5.5,1.8]|\n",
            "|       2.0|  2.0|[6.5,3.0,5.2,2.0]|\n",
            "+----------+-----+-----------------+\n",
            "only showing top 20 rows\n",
            "\n"
          ]
        }
      ]
    },
    {
      "cell_type": "markdown",
      "source": [
        "### NaiveBayes"
      ],
      "metadata": {
        "id": "9e6urfrlu3ET"
      }
    },
    {
      "cell_type": "code",
      "source": [
        "nb_classifier = NaiveBayes(featuresCol=\"features\", labelCol=\"label\")\n",
        "\n",
        "nb_model = nb_classifier.fit(train_df)\n",
        "\n",
        "nb_predictions = nb_model.transform(test_df)\n",
        "\n",
        "nb_result = nb_predictions.select(\"prediction\", \"label\", \"features\")\n",
        "\n",
        "nb_result.show()"
      ],
      "metadata": {
        "colab": {
          "base_uri": "https://localhost:8080/"
        },
        "id": "yHUeXEwYwCHK",
        "outputId": "f4169388-ad22-43a8-fc03-ee1b85856aa0"
      },
      "execution_count": 167,
      "outputs": [
        {
          "output_type": "stream",
          "name": "stdout",
          "text": [
            "+----------+-----+-----------------+\n",
            "|prediction|label|         features|\n",
            "+----------+-----+-----------------+\n",
            "|       0.0|  0.0|[4.4,3.0,1.3,0.2]|\n",
            "|       0.0|  0.0|[4.6,3.2,1.4,0.2]|\n",
            "|       0.0|  0.0|[4.6,3.6,1.0,0.2]|\n",
            "|       0.0|  0.0|[4.8,3.1,1.6,0.2]|\n",
            "|       0.0|  0.0|[4.9,3.1,1.5,0.1]|\n",
            "|       1.0|  1.0|[5.0,2.3,3.3,1.0]|\n",
            "|       0.0|  0.0|[5.0,3.5,1.3,0.3]|\n",
            "|       0.0|  0.0|[5.1,3.5,1.4,0.2]|\n",
            "|       0.0|  0.0|[5.3,3.7,1.5,0.2]|\n",
            "|       1.0|  1.0|[5.4,3.0,4.5,1.5]|\n",
            "|       0.0|  0.0|[5.4,3.4,1.5,0.4]|\n",
            "|       0.0|  0.0|[5.4,3.7,1.5,0.2]|\n",
            "|       0.0|  0.0|[5.4,3.9,1.7,0.4]|\n",
            "|       1.0|  1.0|[5.5,2.5,4.0,1.3]|\n",
            "|       1.0|  1.0|[5.6,2.9,3.6,1.3]|\n",
            "|       1.0|  1.0|[5.7,2.9,4.2,1.3]|\n",
            "|       2.0|  2.0|[5.8,2.7,5.1,1.9]|\n",
            "|       1.0|  1.0|[6.3,2.5,4.9,1.5]|\n",
            "|       2.0|  2.0|[6.4,3.1,5.5,1.8]|\n",
            "|       2.0|  2.0|[6.5,3.0,5.2,2.0]|\n",
            "+----------+-----+-----------------+\n",
            "only showing top 20 rows\n",
            "\n"
          ]
        }
      ]
    },
    {
      "cell_type": "code",
      "source": [
        "# Evaluation\n",
        "nb_evaluator = MulticlassClassificationEvaluator(labelCol=\"label\", predictionCol=\"prediction\", metricName=\"accuracy\")\n",
        "nb_accuracy = nb_evaluator.evaluate(nb_predictions)\n",
        "print(\"Naive Bayes Accuracy: {:.2f}%\".format(nb_accuracy * 100))"
      ],
      "metadata": {
        "colab": {
          "base_uri": "https://localhost:8080/"
        },
        "id": "QpWCR3diwQt5",
        "outputId": "bc3af1fc-ae74-4cb1-cd50-e06637864b8c"
      },
      "execution_count": 168,
      "outputs": [
        {
          "output_type": "stream",
          "name": "stdout",
          "text": [
            "Naive Bayes Accuracy: 100.00%\n"
          ]
        }
      ]
    }
  ]
}
